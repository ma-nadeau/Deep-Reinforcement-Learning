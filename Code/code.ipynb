{
 "cells": [
  {
   "cell_type": "markdown",
   "metadata": {},
   "source": [
    "## COMP 579 - Assignment 3 \n",
    "#### Names: Marc-Antoine Nadeau (261114549) & Jessie Kurtz (26 ...)\n",
    "\n",
    "\n"
   ]
  },
  {
   "cell_type": "markdown",
   "metadata": {},
   "source": [
    "## Question 1 "
   ]
  },
  {
   "cell_type": "code",
   "execution_count": null,
   "metadata": {},
   "outputs": [],
   "source": [
    "import gym # type: ignore\n",
    "import torch # type: ignore\n",
    "import torch.nn as nn # type: ignore\n",
    "import torch.optim as optim # type: ignore\n",
    "import numpy as np\n",
    "import random\n",
    "from collections import deque\n",
    "import matplotlib.pyplot as plt # type: ignore"
   ]
  },
  {
   "cell_type": "markdown",
   "metadata": {},
   "source": [
    "### Define a Q-Network"
   ]
  },
  {
   "cell_type": "code",
   "execution_count": null,
   "metadata": {},
   "outputs": [],
   "source": [
    "class QNetwork(nn.Module):\n",
    "    # Q-Network\n",
    "    def __init__(self, state_dim, action_dim, hidden_dim=256, num_layers=2):\n",
    "        super(QNetwork, self).__init__()\n",
    "        \n",
    "        layers = []\n",
    "        # input layer\n",
    "        layers.append(nn.Linear(state_dim, hidden_dim))\n",
    "        layers.append(nn.ReLU())\n",
    "        # hidden layers\n",
    "        for _ in range(num_layers - 1):\n",
    "            layers.append(nn.Linear(hidden_dim, hidden_dim))\n",
    "            layers.append(nn.ReLU())\n",
    "        \n",
    "        # output layer\n",
    "        layers.append(nn.Linear(hidden_dim, action_dim))\n",
    "        # set model\n",
    "        self.model = nn.Sequential(*layers)\n",
    "        # initialize weights\n",
    "        self.initialize_weights()\n",
    "    \n",
    "    # initialize weights\n",
    "    def initialize_weights(self, initial_weigths=0.0001):\n",
    "        for m in self.model:\n",
    "            if isinstance(m, nn.Linear):\n",
    "                nn.init.uniform_(m.weight, -initial_weigths, initial_weigths)\n",
    "                nn.init.uniform_(m.bias, -initial_weigths, initial_weigths)\n",
    "    \n",
    "    # forward pass\n",
    "    def forward(self, x):\n",
    "        return self.model(x)"
   ]
  },
  {
   "cell_type": "markdown",
   "metadata": {},
   "source": [
    "### Replay Buffer"
   ]
  },
  {
   "cell_type": "code",
   "execution_count": null,
   "metadata": {},
   "outputs": [],
   "source": [
    "class ReplayBuffer:\n",
    "    def __init__(self, capacity=1_000_000):\n",
    "        self.buffer = deque(maxlen=capacity)\n",
    "    \n",
    "    def push(self, state, action, reward, next_state, done):\n",
    "        self.buffer.append((state, action, reward, next_state, done))\n",
    "    \n",
    "    def sample(self, batch_size):\n",
    "        batch = random.sample(self.buffer, batch_size)\n",
    "        state, action, reward, next_state, done = zip(*batch)\n",
    "        return np.array(state), np.array(action), np.array(reward), np.array(next_state), np.array(done)\n",
    "    \n",
    "    def __len__(self):\n",
    "        return len(self.buffer)"
   ]
  },
  {
   "cell_type": "markdown",
   "metadata": {},
   "source": [
    "### Expected Sarsa"
   ]
  },
  {
   "cell_type": "code",
   "execution_count": null,
   "metadata": {},
   "outputs": [],
   "source": [
    "class ExpectedSarsaAgent: \n",
    "    def __init__(self, state_dim, action_dim, lr=0.01, gamma=0.99, epsilon=0.1, hidden_dim=256, num_layers=2):\n",
    "        \n",
    "        self.state_dim = state_dim\n",
    "        self.action_dim = action_dim\n",
    "        self.lr = lr\n",
    "        self.gamma = gamma\n",
    "        self.epsilon = epsilon\n",
    "        \n",
    "        # self.device = torch.device(\"cuda\" if torch.cuda.is_available() else \"cpu\")\n",
    "        self.q_network = QNetwork(state_dim, action_dim, hidden_dim, num_layers) #.to(self.device)\n",
    "        self.optimizer = optim.Adam(self.q_network.parameters(), lr=lr)\n",
    "    \n",
    "    def select_action(self, state): \n",
    "        # epsilon-greedy policy\n",
    "        if random.random() < self.epsilon:\n",
    "            return random.randint(0, self.action_dim - 1)\n",
    "        else:\n",
    "            with torch.no_grad():\n",
    "                q_values = self.q_network(torch.tensor(state, dtype=torch.float32))\n",
    "                return q_values.argmax().item()\n",
    "    \n",
    "    def update(self, state, action, reward, next_state, done):\n",
    "        # convert to tensors\n",
    "        tate = torch.FloatTensor(state)\n",
    "        next_state = torch.FloatTensor(next_state)\n",
    "        action = torch.tensor(action)\n",
    "        reward = torch.tensor(reward)\n",
    "        done = torch.tensor(done, dtype=torch.float32) # 1 if done, 0 otherwise\n",
    "        \n",
    "        q_values = self.q_network(state) # Q-values\n",
    "        q_value = q_values[action] # Q-value of the action taken\n",
    "        next_q_values = self.q_network(next_state).detach() # Q-values of the next state\n",
    "        \n",
    "        # E[Q(s', a')] = (1 - epsilon) * max_a' Q(s', a') + epsilon * sum_a' Q(s', a') / |A|\n",
    "        expected_q = (1 - self.epsilon) * next_q_values.max() + self.epsilon * next_q_values.mean() \n",
    "        target = reward + (1 - done) * self.gamma * expected_q # target = r + gamma * E[Q(s', a')]\n",
    "        \n",
    "        loss = nn.MSELoss()(q_value, target) # = (q_value - target) ** 2\n",
    "        \n",
    "        self.optimizer.zero_grad() # reset gradients\n",
    "        loss.backward() # backpropagation\n",
    "        self.optimizer.step() # update weights"
   ]
  },
  {
   "cell_type": "markdown",
   "metadata": {},
   "source": [
    "### Q-Learning"
   ]
  },
  {
   "cell_type": "code",
   "execution_count": null,
   "metadata": {},
   "outputs": [],
   "source": [
    "class QLearningAgent: \n",
    "    def __init__(self, state_dim, action_dim, hidden_dim=256, num_layers=2, gamma=0.99, learning_rate=0.001, epsilon=0.1):\n",
    "        self.state_dim = state_dim\n",
    "        self.action_dim = action_dim\n",
    "        self.gamma = gamma\n",
    "        self.epsilon = epsilon\n",
    "        self.q_network = QNetwork(state_dim, action_dim, hidden_dim, num_layers)\n",
    "        self.optimizer = optim.Adam(self.q_network.parameters(), lr=learning_rate)\n",
    "\n",
    "    def select_action(self, state):\n",
    "        if random.random() < self.epsilon:\n",
    "            return random.randint(0, self.action_dim - 1)\n",
    "        else:\n",
    "            with torch.no_grad():\n",
    "                q_values = self.q_network(torch.tensor(state, dtype=torch.float32))\n",
    "                return torch.argmax(q_values).item()\n",
    "            \n",
    "    def update(self, state, action, reward, next_state, done):\n",
    "        # convert to tensors\n",
    "        state = torch.FloatTensor(state)\n",
    "        next_state = torch.FloatTensor(next_state)\n",
    "        action = torch.tensor(action)\n",
    "        reward = torch.tensor(reward)\n",
    "        done = torch.tensor(done, dtype=torch.float32) # done = 1 if the episode is done, 0 otherwise\n",
    "        \n",
    "        \n",
    "        q_values = self.q_network(state) # get the q-values\n",
    "        q_value = q_values[action] # get the q-value for the action taken\n",
    "        next_q_values = self.q_network(next_state).detach() # get the q-values for the next state\n",
    "        max_next_q = next_q_values.max() # get the maximum q-value\n",
    "        \n",
    "        target = reward + (1 - done) * self.gamma * max_next_q # target = reward + gamma * max_next_q\n",
    "        loss = nn.MSELoss()(q_value, target) # loss = (q_value - target)^2\n",
    "        \n",
    "        # optimize the model\n",
    "        self.optimizer.zero_grad() # set the gradients to zero\n",
    "        loss.backward() # compute the gradients\n",
    "        self.optimizer.step() # update the weights\n"
   ]
  },
  {
   "cell_type": "code",
   "execution_count": null,
   "metadata": {},
   "outputs": [],
   "source": [
    "# Common training function for QLearning and ExpectedSarsa Agents\n",
    "def train(env_name, agent_class, episodes=1000, epsilon=0.1, lr=0.01, trials=50):\n",
    "    env = gym.make(env_name)\n",
    "    state_dim = env.observation_space.shape[0]\n",
    "    action_dim = env.action_space.n\n",
    "    \n",
    "    all_rewards = []\n",
    "    for trial in range(trials):\n",
    "        agent = agent_class(state_dim, action_dim, lr=lr, epsilon=epsilon)\n",
    "        rewards = []\n",
    "        for episode in range(episodes):\n",
    "            state = env.reset()\n",
    "            total_reward = 0\n",
    "            done = False\n",
    "            while not done:\n",
    "                action = agent.select_action(state)\n",
    "                next_state, reward, done, _ = env.step(action)\n",
    "                agent.update(state, action, reward, next_state, done)\n",
    "                state = next_state\n",
    "                total_reward += reward\n",
    "            rewards.append(total_reward)\n",
    "        all_rewards.append(rewards)\n",
    "    \n",
    "    env.close()\n",
    "    return np.mean(all_rewards, axis=0), np.std(all_rewards, axis=0)"
   ]
  },
  {
   "cell_type": "markdown",
   "metadata": {},
   "source": [
    "### Graphs"
   ]
  },
  {
   "cell_type": "code",
   "execution_count": null,
   "metadata": {},
   "outputs": [],
   "source": [
    "def graphs():\n",
    "    pass"
   ]
  },
  {
   "cell_type": "markdown",
   "metadata": {},
   "source": [
    "### Experimentation"
   ]
  },
  {
   "cell_type": "code",
   "execution_count": null,
   "metadata": {},
   "outputs": [],
   "source": [
    "epsilons = [0.01, 0.001, 0.0001] # https://edstem.org/us/courses/71533/discussion/6304331\n",
    "\n",
    "environments = [\"Acrobot-v1\", \"ALE/Assault-ram-v5\"]\n",
    "\n",
    "\n"
   ]
  },
  {
   "cell_type": "markdown",
   "metadata": {},
   "source": [
    "## Question 2"
   ]
  },
  {
   "cell_type": "code",
   "execution_count": null,
   "metadata": {},
   "outputs": [],
   "source": []
  },
  {
   "cell_type": "markdown",
   "metadata": {},
   "source": [
    "## Question 3"
   ]
  },
  {
   "cell_type": "code",
   "execution_count": null,
   "metadata": {},
   "outputs": [],
   "source": []
  }
 ],
 "metadata": {
  "kernelspec": {
   "display_name": "Python 3",
   "language": "python",
   "name": "python3"
  },
  "language_info": {
   "name": "python",
   "version": "3.10.12"
  }
 },
 "nbformat": 4,
 "nbformat_minor": 2
}
